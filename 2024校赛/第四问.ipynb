{
 "cells": [
  {
   "cell_type": "code",
   "execution_count": 29,
   "id": "a02dab72",
   "metadata": {
    "scrolled": true
   },
   "outputs": [
    {
     "name": "stdout",
     "output_type": "stream",
     "text": [
      "最优参数值: [-2.80436038  8.6257203 ]\n",
      "目标函数值: 278.72606152552\n"
     ]
    }
   ],
   "source": [
    "import numpy as np\n",
    "import pandas as pd\n",
    "from scipy.optimize import minimize\n",
    "from scipy.special import expit\n",
    "\n",
    "data = pd.read_csv('神经网络结果.csv')\n",
    "x1 = data['预测为好客户的得分'].values\n",
    "x2 = data['预测为坏客户的得分'].values\n",
    "\n",
    "# 定义违约率可行域\n",
    "default_rate_thresholds = {\n",
    "    1: 0.2,\n",
    "    2: 0.25,\n",
    "    3: 0.3,\n",
    "    4: 0.35,\n",
    "    5: 0.4,\n",
    "    6: 0.45,\n",
    "    7: 0.55,\n",
    "    8: 0.65,\n",
    "    9: 0.75\n",
    "}\n",
    "\n",
    "# 定义目标函数\n",
    "def objective(params, x1, x2, actual_default_rate):\n",
    "    a, b = params\n",
    "    predicted_default_rate = expit(a * x1 + b * x2)  # 使用 Sigmoid 函数预测违约率\n",
    "    return np.sum((predicted_default_rate - actual_default_rate) ** 2)\n",
    "\n",
    "# 定义约束条件\n",
    "def constraint(params, x1, x2, i, actual_default_rate):\n",
    "    a, b = params\n",
    "    predicted_default_rate = expit(a * x1 + b * x2)\n",
    "    max_default_rate = default_rate_thresholds[i]\n",
    "    return predicted_default_rate[actual_default_rate == 1].mean() - max_default_rate\n",
    "\n",
    "\n",
    "params_init = np.array([0, 0])\n",
    "\n",
    "levels = np.arange(1, 10)\n",
    "\n",
    "constraints = [{'type': 'ineq', 'fun': constraint, 'args': (x1, x2, i, data['Y'].values)} for i in levels]\n",
    "\n",
    "# SLSQP优化算法求解\n",
    "result = minimize(objective, params_init, args=(x1, x2, data['Y'].values), constraints=constraints, method='SLSQP')\n",
    "\n",
    "# 输出结果\n",
    "if result.success:\n",
    "    print(\"最优参数值:\", result.x)\n",
    "    print(\"目标函数值:\", result.fun)\n",
    "    \n",
    "    # 更新信用等级并四舍五入为整数\n",
    "    data['信用等级'] = np.round(expit(result.x[0] * x1 + result.x[1] * x2) * 9 + 1).astype(int)\n",
    "    \n",
    "    # 保存数据到 CSV 文件\n",
    "    data.to_csv('第四问.csv', index=False)\n",
    "else:\n",
    "    print(\"优化失败:\", result.message)\n"
   ]
  }
 ],
 "metadata": {
  "kernelspec": {
   "display_name": "Python 3 (ipykernel)",
   "language": "python",
   "name": "python3"
  },
  "language_info": {
   "codemirror_mode": {
    "name": "ipython",
    "version": 3
   },
   "file_extension": ".py",
   "mimetype": "text/x-python",
   "name": "python",
   "nbconvert_exporter": "python",
   "pygments_lexer": "ipython3",
   "version": "3.11.5"
  }
 },
 "nbformat": 4,
 "nbformat_minor": 5
}
